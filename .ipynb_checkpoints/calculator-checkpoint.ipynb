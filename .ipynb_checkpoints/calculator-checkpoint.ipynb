{
 "cells": [
  {
   "cell_type": "code",
   "execution_count": 20,
   "metadata": {},
   "outputs": [],
   "source": [
    "import pandas as pd"
   ]
  },
  {
   "cell_type": "code",
   "execution_count": 29,
   "metadata": {},
   "outputs": [],
   "source": [
    "years = range(2020,2025)\n",
    "rates = {\n",
    "    2020 : {\n",
    "        100: 0,\n",
    "        150: 15,\n",
    "        250: 25,\n",
    "        350: 30,\n",
    "        450: 45,\n",
    "        1000: 55  \n",
    "    },\n",
    "    2021 : {\n",
    "        100: 0,\n",
    "        150: 29,\n",
    "        250: 43,\n",
    "        350: 49,\n",
    "        450: 61,\n",
    "        1000: 70        \n",
    "    },\n",
    "    2022 : {\n",
    "        100: 0,\n",
    "        150: 43,\n",
    "        250: 60,\n",
    "        350: 68,\n",
    "        450: 78,\n",
    "        1000: 85 \n",
    "    },\n",
    "    2023 : {\n",
    "        100: 0,\n",
    "        150: 56,\n",
    "        250: 78,\n",
    "        350: 86,\n",
    "        450: 94,\n",
    "        1000: 100 \n",
    "    },\n",
    "    2024 : {\n",
    "        100: 0,\n",
    "        150: 70,\n",
    "        250: 95,\n",
    "        350: 105,\n",
    "        450: 110,\n",
    "        1000: 115  \n",
    "    }\n",
    "}"
   ]
  },
  {
   "cell_type": "code",
   "execution_count": 32,
   "metadata": {},
   "outputs": [],
   "source": [
    "def value_of_hours(hours, year):\n",
    "    total = 0\n",
    "    previous_threshold = 0\n",
    "\n",
    "    for threshold, rate in rates[year].items():\n",
    "        hours_over_threshold = hours - threshold\n",
    "        hours_over_previous_threshold = hours - previous_threshold\n",
    "\n",
    "        if hours_over_threshold > 0:\n",
    "            total += (threshold - previous_threshold) * rate\n",
    "        elif hours_over_previous_threshold > 0:\n",
    "            total += (hours - previous_threshold) * rate\n",
    "\n",
    "        previous_threshold = threshold\n",
    "\n",
    "    return total"
   ]
  },
  {
   "cell_type": "code",
   "execution_count": 35,
   "metadata": {},
   "outputs": [],
   "source": [
    "cps = {\n",
    "    2020: 6000,\n",
    "    2021: 6000,\n",
    "    2022: 9000,\n",
    "    2023: 9000,\n",
    "    2024: 9000,\n",
    "}\n",
    "cps_factor ={\n",
    "    2020: 1.0,\n",
    "    2021: 0.75,\n",
    "    2022: 0.5,\n",
    "    2023: 0.25,\n",
    "    2024: 0,  \n",
    "}"
   ]
  },
  {
   "cell_type": "code",
   "execution_count": 33,
   "metadata": {
    "scrolled": true
   },
   "outputs": [
    {
     "data": {
      "text/plain": [
       "23500"
      ]
     },
     "execution_count": 33,
     "metadata": {},
     "output_type": "execute_result"
    }
   ],
   "source": [
    "value_of_hours(350, 2024)"
   ]
  },
  {
   "cell_type": "code",
   "execution_count": 37,
   "metadata": {
    "scrolled": true
   },
   "outputs": [
    {
     "data": {
      "text/html": [
       "<div>\n",
       "<style scoped>\n",
       "    .dataframe tbody tr th:only-of-type {\n",
       "        vertical-align: middle;\n",
       "    }\n",
       "\n",
       "    .dataframe tbody tr th {\n",
       "        vertical-align: top;\n",
       "    }\n",
       "\n",
       "    .dataframe thead th {\n",
       "        text-align: right;\n",
       "    }\n",
       "</style>\n",
       "<table border=\"1\" class=\"dataframe\">\n",
       "  <thead>\n",
       "    <tr style=\"text-align: right;\">\n",
       "      <th></th>\n",
       "      <th>year</th>\n",
       "      <th>productivity</th>\n",
       "      <th>cps</th>\n",
       "    </tr>\n",
       "  </thead>\n",
       "  <tbody>\n",
       "    <tr>\n",
       "      <th>0</th>\n",
       "      <td>2020</td>\n",
       "      <td>6250</td>\n",
       "      <td>6000</td>\n",
       "    </tr>\n",
       "    <tr>\n",
       "      <th>1</th>\n",
       "      <td>2021</td>\n",
       "      <td>10650</td>\n",
       "      <td>6000</td>\n",
       "    </tr>\n",
       "    <tr>\n",
       "      <th>2</th>\n",
       "      <td>2022</td>\n",
       "      <td>14950</td>\n",
       "      <td>9000</td>\n",
       "    </tr>\n",
       "    <tr>\n",
       "      <th>3</th>\n",
       "      <td>2023</td>\n",
       "      <td>19200</td>\n",
       "      <td>9000</td>\n",
       "    </tr>\n",
       "    <tr>\n",
       "      <th>4</th>\n",
       "      <td>2024</td>\n",
       "      <td>23500</td>\n",
       "      <td>9000</td>\n",
       "    </tr>\n",
       "  </tbody>\n",
       "</table>\n",
       "</div>"
      ],
      "text/plain": [
       "   year  productivity   cps\n",
       "0  2020          6250  6000\n",
       "1  2021         10650  6000\n",
       "2  2022         14950  9000\n",
       "3  2023         19200  9000\n",
       "4  2024         23500  9000"
      ]
     },
     "execution_count": 37,
     "metadata": {},
     "output_type": "execute_result"
    }
   ],
   "source": [
    "hours = 350\n",
    "comparison = pd.DataFrame()\n",
    "comparison['year'] = years\n",
    "comparison['productivity'] = comparison.year.apply(lambda year : value_of_hours(hours, year) )\n",
    "comparison['cps'] = cps.values()\n",
    "comparison"
   ]
  }
 ],
 "metadata": {
  "kernelspec": {
   "display_name": "Python 3",
   "language": "python",
   "name": "python3"
  },
  "language_info": {
   "codemirror_mode": {
    "name": "ipython",
    "version": 3
   },
   "file_extension": ".py",
   "mimetype": "text/x-python",
   "name": "python",
   "nbconvert_exporter": "python",
   "pygments_lexer": "ipython3",
   "version": "3.8.2"
  }
 },
 "nbformat": 4,
 "nbformat_minor": 4
}
