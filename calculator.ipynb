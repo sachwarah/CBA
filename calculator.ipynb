{
 "cells": [
  {
   "cell_type": "code",
   "execution_count": 20,
   "metadata": {},
   "outputs": [],
   "source": [
    "import pandas as pd"
   ]
  },
  {
   "cell_type": "code",
   "execution_count": 29,
   "metadata": {},
   "outputs": [],
   "source": [
    "years = range(2020,2025)\n",
    "rates = {\n",
    "    2020 : {\n",
    "        100: 0,\n",
    "        150: 15,\n",
    "        250: 25,\n",
    "        350: 30,\n",
    "        450: 45,\n",
    "        1000: 55  \n",
    "    },\n",
    "    2021 : {\n",
    "        100: 0,\n",
    "        150: 29,\n",
    "        250: 43,\n",
    "        350: 49,\n",
    "        450: 61,\n",
    "        1000: 70        \n",
    "    },\n",
    "    2022 : {\n",
    "        100: 0,\n",
    "        150: 43,\n",
    "        250: 60,\n",
    "        350: 68,\n",
    "        450: 78,\n",
    "        1000: 85 \n",
    "    },\n",
    "    2023 : {\n",
    "        100: 0,\n",
    "        150: 56,\n",
    "        250: 78,\n",
    "        350: 86,\n",
    "        450: 94,\n",
    "        1000: 100 \n",
    "    },\n",
    "    2024 : {\n",
    "        100: 0,\n",
    "        150: 70,\n",
    "        250: 95,\n",
    "        350: 105,\n",
    "        450: 110,\n",
    "        1000: 115  \n",
    "    }\n",
    "}"
   ]
  },
  {
   "cell_type": "code",
   "execution_count": 32,
   "metadata": {},
   "outputs": [],
   "source": [
    "def value_of_hours(hours, year):\n",
    "    total = 0\n",
    "    previous_threshold = 0\n",
    "\n",
    "    for threshold, rate in rates[year].items():\n",
    "        hours_over_threshold = hours - threshold\n",
    "        hours_over_previous_threshold = hours - previous_threshold\n",
    "\n",
    "        if hours_over_threshold > 0:\n",
    "            total += (threshold - previous_threshold) * rate\n",
    "        elif hours_over_previous_threshold > 0:\n",
    "            total += (hours - previous_threshold) * rate\n",
    "\n",
    "        previous_threshold = threshold\n",
    "\n",
    "    return total"
   ]
  },
  {
   "cell_type": "code",
   "execution_count": 40,
   "metadata": {},
   "outputs": [],
   "source": [
    "cps = {\n",
    "    2020: 6000,\n",
    "    2021: 6000,\n",
    "    2022: 9000,\n",
    "    2023: 9000,\n",
    "    2024: 9000,\n",
    "}\n",
    "cps_factor ={\n",
    "    2020: 1.0,\n",
    "    2021: 0.75,\n",
    "    2022: 0.5,\n",
    "    2023: 0.25,\n",
    "    2024: 0,\n",
    "}"
   ]
  },
  {
   "cell_type": "code",
   "execution_count": 33,
   "metadata": {
    "scrolled": true
   },
   "outputs": [
    {
     "data": {
      "text/plain": [
       "23500"
      ]
     },
     "execution_count": 33,
     "metadata": {},
     "output_type": "execute_result"
    }
   ],
   "source": [
    "value_of_hours(350, 2024)"
   ]
  },
  {
   "cell_type": "code",
   "execution_count": 84,
   "metadata": {
    "scrolled": true
   },
   "outputs": [
    {
     "data": {
      "text/html": [
       "<div>\n",
       "<style scoped>\n",
       "    .dataframe tbody tr th:only-of-type {\n",
       "        vertical-align: middle;\n",
       "    }\n",
       "\n",
       "    .dataframe tbody tr th {\n",
       "        vertical-align: top;\n",
       "    }\n",
       "\n",
       "    .dataframe thead th {\n",
       "        text-align: right;\n",
       "    }\n",
       "</style>\n",
       "<table border=\"1\" class=\"dataframe\">\n",
       "  <thead>\n",
       "    <tr style=\"text-align: right;\">\n",
       "      <th></th>\n",
       "      <th>productivity</th>\n",
       "      <th>new_cps</th>\n",
       "    </tr>\n",
       "    <tr>\n",
       "      <th>year</th>\n",
       "      <th></th>\n",
       "      <th></th>\n",
       "    </tr>\n",
       "  </thead>\n",
       "  <tbody>\n",
       "    <tr>\n",
       "      <th>2020</th>\n",
       "      <td>6250</td>\n",
       "      <td>6000.0</td>\n",
       "    </tr>\n",
       "    <tr>\n",
       "      <th>2021</th>\n",
       "      <td>10650</td>\n",
       "      <td>4500.0</td>\n",
       "    </tr>\n",
       "    <tr>\n",
       "      <th>2022</th>\n",
       "      <td>14950</td>\n",
       "      <td>4500.0</td>\n",
       "    </tr>\n",
       "    <tr>\n",
       "      <th>2023</th>\n",
       "      <td>19200</td>\n",
       "      <td>2250.0</td>\n",
       "    </tr>\n",
       "    <tr>\n",
       "      <th>2024</th>\n",
       "      <td>23500</td>\n",
       "      <td>0.0</td>\n",
       "    </tr>\n",
       "  </tbody>\n",
       "</table>\n",
       "</div>"
      ],
      "text/plain": [
       "      productivity  new_cps\n",
       "year                       \n",
       "2020          6250   6000.0\n",
       "2021         10650   4500.0\n",
       "2022         14950   4500.0\n",
       "2023         19200   2250.0\n",
       "2024         23500      0.0"
      ]
     },
     "execution_count": 84,
     "metadata": {},
     "output_type": "execute_result"
    }
   ],
   "source": [
    "hours = 350\n",
    "comparison = pd.DataFrame()\n",
    "comparison['year'] = years\n",
    "comparison['productivity'] = comparison.year.apply(lambda year : value_of_hours(hours, year) )\n",
    "comparison['cps'] = cps.values()\n",
    "comparison['factor'] = cps_factor.values()\n",
    "comparison['new_cps'] = comparison.cps * comparison.factor\n",
    "comparison.drop(columns=['cps', 'factor'], inplace=True)\n",
    "comparison.set_index('year', inplace=True)\n",
    "comparison"
   ]
  },
  {
   "cell_type": "code",
   "execution_count": 85,
   "metadata": {},
   "outputs": [
    {
     "data": {
      "text/html": [
       "<div>\n",
       "<style scoped>\n",
       "    .dataframe tbody tr th:only-of-type {\n",
       "        vertical-align: middle;\n",
       "    }\n",
       "\n",
       "    .dataframe tbody tr th {\n",
       "        vertical-align: top;\n",
       "    }\n",
       "\n",
       "    .dataframe thead th {\n",
       "        text-align: right;\n",
       "    }\n",
       "</style>\n",
       "<table border=\"1\" class=\"dataframe\">\n",
       "  <thead>\n",
       "    <tr style=\"text-align: right;\">\n",
       "      <th></th>\n",
       "      <th>productivity</th>\n",
       "      <th>new_cps</th>\n",
       "      <th>total</th>\n",
       "    </tr>\n",
       "    <tr>\n",
       "      <th>year</th>\n",
       "      <th></th>\n",
       "      <th></th>\n",
       "      <th></th>\n",
       "    </tr>\n",
       "  </thead>\n",
       "  <tbody>\n",
       "    <tr>\n",
       "      <th>2020</th>\n",
       "      <td>6250</td>\n",
       "      <td>6000.0</td>\n",
       "      <td>12250.0</td>\n",
       "    </tr>\n",
       "    <tr>\n",
       "      <th>2021</th>\n",
       "      <td>10650</td>\n",
       "      <td>4500.0</td>\n",
       "      <td>15150.0</td>\n",
       "    </tr>\n",
       "    <tr>\n",
       "      <th>2022</th>\n",
       "      <td>14950</td>\n",
       "      <td>4500.0</td>\n",
       "      <td>19450.0</td>\n",
       "    </tr>\n",
       "    <tr>\n",
       "      <th>2023</th>\n",
       "      <td>19200</td>\n",
       "      <td>2250.0</td>\n",
       "      <td>21450.0</td>\n",
       "    </tr>\n",
       "    <tr>\n",
       "      <th>2024</th>\n",
       "      <td>23500</td>\n",
       "      <td>0.0</td>\n",
       "      <td>23500.0</td>\n",
       "    </tr>\n",
       "  </tbody>\n",
       "</table>\n",
       "</div>"
      ],
      "text/plain": [
       "      productivity  new_cps    total\n",
       "year                                \n",
       "2020          6250   6000.0  12250.0\n",
       "2021         10650   4500.0  15150.0\n",
       "2022         14950   4500.0  19450.0\n",
       "2023         19200   2250.0  21450.0\n",
       "2024         23500      0.0  23500.0"
      ]
     },
     "execution_count": 85,
     "metadata": {},
     "output_type": "execute_result"
    }
   ],
   "source": [
    "comparison['total'] = comparison.sum(axis=1)\n",
    "comparison"
   ]
  },
  {
   "cell_type": "code",
   "execution_count": 86,
   "metadata": {},
   "outputs": [
    {
     "data": {
      "text/html": [
       "<div>\n",
       "<style scoped>\n",
       "    .dataframe tbody tr th:only-of-type {\n",
       "        vertical-align: middle;\n",
       "    }\n",
       "\n",
       "    .dataframe tbody tr th {\n",
       "        vertical-align: top;\n",
       "    }\n",
       "\n",
       "    .dataframe thead th {\n",
       "        text-align: right;\n",
       "    }\n",
       "</style>\n",
       "<table border=\"1\" class=\"dataframe\">\n",
       "  <thead>\n",
       "    <tr style=\"text-align: right;\">\n",
       "      <th>year</th>\n",
       "      <th>2020</th>\n",
       "      <th>2021</th>\n",
       "      <th>2022</th>\n",
       "      <th>2023</th>\n",
       "      <th>2024</th>\n",
       "    </tr>\n",
       "  </thead>\n",
       "  <tbody>\n",
       "    <tr>\n",
       "      <th>productivity</th>\n",
       "      <td>6250.0</td>\n",
       "      <td>10650.0</td>\n",
       "      <td>14950.0</td>\n",
       "      <td>19200.0</td>\n",
       "      <td>23500.0</td>\n",
       "    </tr>\n",
       "    <tr>\n",
       "      <th>new_cps</th>\n",
       "      <td>6000.0</td>\n",
       "      <td>4500.0</td>\n",
       "      <td>4500.0</td>\n",
       "      <td>2250.0</td>\n",
       "      <td>0.0</td>\n",
       "    </tr>\n",
       "    <tr>\n",
       "      <th>total</th>\n",
       "      <td>12250.0</td>\n",
       "      <td>15150.0</td>\n",
       "      <td>19450.0</td>\n",
       "      <td>21450.0</td>\n",
       "      <td>23500.0</td>\n",
       "    </tr>\n",
       "  </tbody>\n",
       "</table>\n",
       "</div>"
      ],
      "text/plain": [
       "year             2020     2021     2022     2023     2024\n",
       "productivity   6250.0  10650.0  14950.0  19200.0  23500.0\n",
       "new_cps        6000.0   4500.0   4500.0   2250.0      0.0\n",
       "total         12250.0  15150.0  19450.0  21450.0  23500.0"
      ]
     },
     "execution_count": 86,
     "metadata": {},
     "output_type": "execute_result"
    }
   ],
   "source": [
    "comparison_t = comparison.transpose()\n",
    "totals = comparison_t\n",
    "totals"
   ]
  }
 ],
 "metadata": {
  "kernelspec": {
   "display_name": "Python 3",
   "language": "python",
   "name": "python3"
  },
  "language_info": {
   "codemirror_mode": {
    "name": "ipython",
    "version": 3
   },
   "file_extension": ".py",
   "mimetype": "text/x-python",
   "name": "python",
   "nbconvert_exporter": "python",
   "pygments_lexer": "ipython3",
   "version": "3.8.2"
  }
 },
 "nbformat": 4,
 "nbformat_minor": 4
}
